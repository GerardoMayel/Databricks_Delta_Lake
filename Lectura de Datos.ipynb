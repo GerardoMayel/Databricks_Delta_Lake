{
 "cells": [
  {
   "cell_type": "code",
   "execution_count": 0,
   "metadata": {
    "application/vnd.databricks.v1+cell": {
     "cellMetadata": {
      "byteLimit": 2048000,
      "rowLimit": 10000
     },
     "inputWidgets": {},
     "nuid": "99d90348-f947-406c-bc54-4111e6e3e8ee",
     "showTitle": false,
     "title": ""
    }
   },
   "outputs": [
    {
     "output_type": "stream",
     "name": "stdout",
     "output_type": "stream",
     "text": [
      "Número de cores disponibles: 0\nMemoria disponible por executor: 8278m\nMemoria total disponible en el clúster: 0 GB\n"
     ]
    }
   ],
   "source": [
    "from pyspark.sql import SparkSession\n",
    "\n",
    "# Obtener la sesión de Spark\n",
    "spark = SparkSession.builder.getOrCreate()\n",
    "\n",
    "# Obtener la configuración del clúster\n",
    "conf = spark.sparkContext.getConf()\n",
    "\n",
    "# Número de cores disponibles\n",
    "num_cores = int(conf.get(\"spark.executor.instances\", \"0\")) * int(conf.get(\"spark.executor.cores\", \"0\"))\n",
    "print(f\"Número de cores disponibles: {num_cores}\")\n",
    "\n",
    "# Memoria disponible por executor\n",
    "mem_por_executor = conf.get(\"spark.executor.memory\", \"0g\")\n",
    "print(f\"Memoria disponible por executor: {mem_por_executor}\")\n",
    "\n",
    "# Memoria total disponible en el clúster\n",
    "num_executors = int(conf.get(\"spark.executor.instances\", \"0\"))\n",
    "mem_total = num_executors * int(mem_por_executor[:-1])  # Remover la última letra (que indica la unidad, por ejemplo, 'g' de gigabytes)\n",
    "print(f\"Memoria total disponible en el clúster: {mem_total} GB\")\n",
    "\n"
   ]
  },
  {
   "cell_type": "code",
   "execution_count": 0,
   "metadata": {
    "application/vnd.databricks.v1+cell": {
     "cellMetadata": {
      "byteLimit": 2048000,
      "rowLimit": 10000
     },
     "inputWidgets": {},
     "nuid": "3772060e-4772-4574-8830-ab20535f5aa1",
     "showTitle": false,
     "title": ""
    }
   },
   "outputs": [],
   "source": [
    "#Lectura desde archviso texto plano\n",
    "summary_df = spark.read.csv('dbfs:/FileStore/curso_databricks/2015_summary.csv', header=True, inferSchema=True)"
   ]
  },
  {
   "cell_type": "code",
   "execution_count": 0,
   "metadata": {
    "application/vnd.databricks.v1+cell": {
     "cellMetadata": {
      "byteLimit": 2048000,
      "rowLimit": 10000
     },
     "inputWidgets": {},
     "nuid": "9a960972-8743-4cb4-8518-34f2cebf33e6",
     "showTitle": false,
     "title": ""
    }
   },
   "outputs": [
    {
     "output_type": "stream",
     "name": "stdout",
     "output_type": "stream",
     "text": [
      "+-----------------+-------------------+-----+\n|DEST_COUNTRY_NAME|ORIGIN_COUNTRY_NAME|count|\n+-----------------+-------------------+-----+\n|    United States|            Romania|   15|\n|    United States|            Croatia|    1|\n|    United States|            Ireland|  344|\n|            Egypt|      United States|   15|\n|    United States|              India|   62|\n|    United States|          Singapore|    1|\n|    United States|            Grenada|   62|\n|       Costa Rica|      United States|  588|\n|          Senegal|      United States|   40|\n|          Moldova|      United States|    1|\n+-----------------+-------------------+-----+\nonly showing top 10 rows\n\n"
     ]
    }
   ],
   "source": [
    "summary_df.show(10)"
   ]
  },
  {
   "cell_type": "code",
   "execution_count": 0,
   "metadata": {
    "application/vnd.databricks.v1+cell": {
     "cellMetadata": {
      "byteLimit": 2048000,
      "rowLimit": 10000
     },
     "inputWidgets": {},
     "nuid": "226494f9-2945-4435-a9b1-43440501b97b",
     "showTitle": false,
     "title": ""
    }
   },
   "outputs": [
    {
     "output_type": "stream",
     "name": "stdout",
     "output_type": "stream",
     "text": [
      "root\n |-- DEST_COUNTRY_NAME: string (nullable = true)\n |-- ORIGIN_COUNTRY_NAME: string (nullable = true)\n |-- count: integer (nullable = true)\n\n"
     ]
    }
   ],
   "source": [
    "summary_df.printSchema()"
   ]
  },
  {
   "cell_type": "code",
   "execution_count": 0,
   "metadata": {
    "application/vnd.databricks.v1+cell": {
     "cellMetadata": {
      "byteLimit": 2048000,
      "rowLimit": 10000
     },
     "inputWidgets": {},
     "nuid": "bbfe1c20-dc3c-4f19-b692-d664b2c4af2a",
     "showTitle": false,
     "title": ""
    }
   },
   "outputs": [],
   "source": [
    "#Lectura desde archvio de texto plano: data\n",
    "persona_df = spark.read.format(\"csv\").option(\"header\",\"true\").option(\"delimiter\",\"|\").option(\"encoding\", \"ISO-8859-1\").load('dbfs:/FileStore/curso_databricks/persona.data')"
   ]
  },
  {
   "cell_type": "code",
   "execution_count": 0,
   "metadata": {
    "application/vnd.databricks.v1+cell": {
     "cellMetadata": {
      "byteLimit": 2048000,
      "rowLimit": 10000
     },
     "inputWidgets": {},
     "nuid": "e6239060-ae83-4d05-b1c7-25c457ed7854",
     "showTitle": false,
     "title": ""
    }
   },
   "outputs": [
    {
     "output_type": "stream",
     "name": "stdout",
     "output_type": "stream",
     "text": [
      "+---+---------+--------------+--------------------+-------------+----+-------+----------+\n| ID|   NOMBRE|      TELEFONO|              CORREO|FECHA_INGRESO|EDAD|SALARIO|ID_EMPRESA|\n+---+---------+--------------+--------------------+-------------+----+-------+----------+\n|  1|     Carl|1-745-633-9145|arcu.Sed.et@ante....|   2004-04-23|  32|  20095|         5|\n|  2|Priscilla|      155-2498|Donec.egestas.Ali...|   2019-02-17|  34|   9298|         2|\n|  3|  Jocelyn|1-204-956-8594|amet.diam@loborti...|   2002-08-01|  27|  10853|         3|\n|  4|    Aidan|1-719-862-9385|euismod.et.commod...|   2018-11-06|  29|   3387|        10|\n|  5|  Leandra|      839-8044|at@pretiumetrutru...|   2002-10-10|  41|  22102|         1|\n|  6|     Bert|      797-4453|a.felis.ullamcorp...|   2017-04-25|  70|   7800|         7|\n|  7|     Mark|1-680-102-6792|Quisque.ac@placer...|   2006-04-21|  52|   8112|         5|\n|  8|    Jonah|      214-2975|eu.ultrices.sit@v...|   2017-10-07|  23|  17040|         5|\n|  9|    Hanae|      935-2277|          eu@Nunc.ca|   2003-05-25|  69|   6834|         3|\n| 10|   Cadman|1-866-561-2701|orci.adipiscing.n...|   2001-05-19|  19|   7996|         7|\n+---+---------+--------------+--------------------+-------------+----+-------+----------+\nonly showing top 10 rows\n\n"
     ]
    }
   ],
   "source": [
    "persona_df.show(10)"
   ]
  },
  {
   "cell_type": "code",
   "execution_count": 0,
   "metadata": {
    "application/vnd.databricks.v1+cell": {
     "cellMetadata": {
      "byteLimit": 2048000,
      "rowLimit": 10000
     },
     "inputWidgets": {},
     "nuid": "800e063b-dd7f-42ad-86eb-93655022d749",
     "showTitle": false,
     "title": ""
    }
   },
   "outputs": [
    {
     "output_type": "stream",
     "name": "stdout",
     "output_type": "stream",
     "text": [
      "root\n |-- ID: string (nullable = true)\n |-- NOMBRE: string (nullable = true)\n |-- TELEFONO: string (nullable = true)\n |-- CORREO: string (nullable = true)\n |-- FECHA_INGRESO: string (nullable = true)\n |-- EDAD: string (nullable = true)\n |-- SALARIO: string (nullable = true)\n |-- ID_EMPRESA: string (nullable = true)\n\n"
     ]
    }
   ],
   "source": [
    "persona_df.printSchema()"
   ]
  },
  {
   "cell_type": "code",
   "execution_count": 0,
   "metadata": {
    "application/vnd.databricks.v1+cell": {
     "cellMetadata": {
      "byteLimit": 2048000,
      "rowLimit": 10000
     },
     "inputWidgets": {},
     "nuid": "d53cea46-2e6b-42c9-88c7-962060f9f095",
     "showTitle": false,
     "title": ""
    }
   },
   "outputs": [],
   "source": [
    "#Lectura de archvios semi-estructurados JSON\n",
    "\n",
    "transacciones_df = spark.read.format(\"json\").option(\"multiline\", False).load('dbfs:/FileStore/curso_databricks/transacciones.json')"
   ]
  },
  {
   "cell_type": "code",
   "execution_count": 0,
   "metadata": {
    "application/vnd.databricks.v1+cell": {
     "cellMetadata": {
      "byteLimit": 2048000,
      "rowLimit": 10000
     },
     "inputWidgets": {},
     "nuid": "2d59be0b-15c6-466c-8154-86723133871f",
     "showTitle": false,
     "title": ""
    }
   },
   "outputs": [
    {
     "output_type": "stream",
     "name": "stdout",
     "output_type": "stream",
     "text": [
      "+--------------+--------------------+--------------------+\n|       EMPRESA|             PERSONA|         TRANSACCION|\n+--------------+--------------------+--------------------+\n|   {5, Amazon}|{[{59, 9811935}, ...|{2021-01-23, 2628.0}|\n|      {9, IBM}|{[{50, 9912937}, ...|{2021-01-23, 4261.0}|\n|  {7, Samsung}|{[{53, 9769557}, ...|{2021-01-23, 1429.0}|\n|   {5, Amazon}|{[{51, 9733329}, ...|{2021-01-23, 3385.0}|\n|   {4, Toyota}|{[{52, 9091334}, ...|{2021-01-23, 3514.0}|\n|      {9, IBM}|{[{59, 9708669}, ...| {2021-01-23, 823.0}|\n|{2, Microsoft}|{null, 47, 31, Ry...|{2021-01-23, 3724.0}|\n|    {10, Sony}|{[{51, 9443174}],...|{2021-01-23, 3429.0}|\n|   {4, Toyota}|{[{54, 9375039}, ...|{2021-01-23, 4267.0}|\n|      {9, IBM}|{[{59, 9227653}, ...| {2021-01-23, 796.0}|\n+--------------+--------------------+--------------------+\nonly showing top 10 rows\n\n"
     ]
    }
   ],
   "source": [
    "transacciones_df.show(10)"
   ]
  },
  {
   "cell_type": "code",
   "execution_count": 0,
   "metadata": {
    "application/vnd.databricks.v1+cell": {
     "cellMetadata": {
      "byteLimit": 2048000,
      "rowLimit": 10000
     },
     "inputWidgets": {},
     "nuid": "81e418d0-09c2-4074-a187-56f1f8d1742e",
     "showTitle": false,
     "title": ""
    }
   },
   "outputs": [
    {
     "output_type": "stream",
     "name": "stdout",
     "output_type": "stream",
     "text": [
      "+--------------+------------------------------------------------------------------------------------------------------+--------------------+\n|EMPRESA       |PERSONA                                                                                               |TRANSACCION         |\n+--------------+------------------------------------------------------------------------------------------------------+--------------------+\n|{5, Amazon}   |{[{59, 9811935}, {53, 9423163}], 33, 26, Brenden, 20549.0}                                            |{2021-01-23, 2628.0}|\n|{9, IBM}      |{[{50, 9912937}, {54, 9046676}, {55, 9874284}, {58, 9746053}, {53, 9058704}], 31, 21, Carissa, 1952.0}|{2021-01-23, 4261.0}|\n|{7, Samsung}  |{[{53, 9769557}, {59, 9754523}, {52, 9063371}, {55, 9301624}, {56, 9770100}], 42, 73, Fiona, 9960.0}  |{2021-01-23, 1429.0}|\n|{5, Amazon}   |{[{51, 9733329}, {57, 9619332}, {51, 9087416}, {50, 9486747}], 59, 14, Allen, 16289.0}                |{2021-01-23, 3385.0}|\n|{4, Toyota}   |{[{52, 9091334}, {59, 9831571}], 59, 80, Ebony, 3600.0}                                               |{2021-01-23, 3514.0}|\n|{9, IBM}      |{[{59, 9708669}, {52, 9751344}], 22, 53, Zachery, 23820.0}                                            |{2021-01-23, 823.0} |\n|{2, Microsoft}|{null, 47, 31, Rylee, 21591.0}                                                                        |{2021-01-23, 3724.0}|\n|{10, Sony}    |{[{51, 9443174}], 64, 55, Jennifer, 19013.0}                                                          |{2021-01-23, 3429.0}|\n|{4, Toyota}   |{[{54, 9375039}, {58, 9397273}], 22, 45, Kylynn, 7040.0}                                              |{2021-01-23, 4267.0}|\n|{9, IBM}      |{[{59, 9227653}, {56, 9409477}, {52, 9710151}], 22, 22, Kibo, 7449.0}                                 |{2021-01-23, 796.0} |\n+--------------+------------------------------------------------------------------------------------------------------+--------------------+\nonly showing top 10 rows\n\n"
     ]
    }
   ],
   "source": [
    "transacciones_df.show(10, False)"
   ]
  },
  {
   "cell_type": "code",
   "execution_count": 0,
   "metadata": {
    "application/vnd.databricks.v1+cell": {
     "cellMetadata": {
      "byteLimit": 2048000,
      "rowLimit": 10000
     },
     "inputWidgets": {},
     "nuid": "e1c59be7-5aba-4578-8618-30339441e90c",
     "showTitle": false,
     "title": ""
    }
   },
   "outputs": [
    {
     "output_type": "stream",
     "name": "stdout",
     "output_type": "stream",
     "text": [
      "root\n |-- EMPRESA: struct (nullable = true)\n |    |-- ID_EMPRESA: string (nullable = true)\n |    |-- NOMBRE_EMPRESA: string (nullable = true)\n |-- PERSONA: struct (nullable = true)\n |    |-- CONTACTO: array (nullable = true)\n |    |    |-- element: struct (containsNull = true)\n |    |    |    |-- PREFIJO: string (nullable = true)\n |    |    |    |-- TELEFONO: string (nullable = true)\n |    |-- EDAD: long (nullable = true)\n |    |-- ID_PERSONA: string (nullable = true)\n |    |-- NOMBRE_PERSONA: string (nullable = true)\n |    |-- SALARIO: double (nullable = true)\n |-- TRANSACCION: struct (nullable = true)\n |    |-- FECHA: string (nullable = true)\n |    |-- MONTO: double (nullable = true)\n\n"
     ]
    }
   ],
   "source": [
    "transacciones_df.printSchema()"
   ]
  },
  {
   "cell_type": "code",
   "execution_count": 0,
   "metadata": {
    "application/vnd.databricks.v1+cell": {
     "cellMetadata": {},
     "inputWidgets": {},
     "nuid": "e1bbea78-d5f5-4c88-a83c-e4fa10de3368",
     "showTitle": false,
     "title": ""
    }
   },
   "outputs": [],
   "source": []
  }
 ],
 "metadata": {
  "application/vnd.databricks.v1+notebook": {
   "dashboards": [],
   "language": "python",
   "notebookMetadata": {
    "pythonIndentUnit": 4
   },
   "notebookName": "Lectura de Datos",
   "widgets": {}
  }
 },
 "nbformat": 4,
 "nbformat_minor": 0
}
