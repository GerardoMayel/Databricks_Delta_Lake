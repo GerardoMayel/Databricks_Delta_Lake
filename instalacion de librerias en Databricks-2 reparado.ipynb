{
 "cells": [
  {
   "cell_type": "markdown",
   "metadata": {
    "application/vnd.databricks.v1+cell": {
     "cellMetadata": {
      "byteLimit": 2048000,
      "rowLimit": 10000
     },
     "inputWidgets": {},
     "nuid": "13433549-0942-4bfc-ae16-ddadad91ac9f",
     "showTitle": false,
     "title": ""
    }
   },
   "source": [
    "<h2>Instalacion de Librerias<h2>"
   ]
  },
  {
   "cell_type": "code",
   "execution_count": 0,
   "metadata": {
    "application/vnd.databricks.v1+cell": {
     "cellMetadata": {
      "byteLimit": 2048000,
      "rowLimit": 10000
     },
     "inputWidgets": {},
     "nuid": "2f25da8b-367a-4e93-852c-cd8fc217edb8",
     "showTitle": false,
     "title": ""
    }
   },
   "outputs": [],
   "source": [
    "#<!-- https://mvnrepository.com/artifact/com.databricks/spark-xml -->\n",
    "#<dependency>\n",
    "#    <groupId>com.databricks</groupId>\n",
    "#    <artifactId>spark-xml_2.12</artifactId>\n",
    "#    <version>0.17.0</version>\n",
    "#</dependency>"
   ]
  },
  {
   "cell_type": "code",
   "execution_count": 0,
   "metadata": {
    "application/vnd.databricks.v1+cell": {
     "cellMetadata": {
      "byteLimit": 2048000,
      "rowLimit": 10000
     },
     "inputWidgets": {},
     "nuid": "f408ceca-dd4b-4ef9-be56-72ad89603307",
     "showTitle": false,
     "title": ""
    }
   },
   "outputs": [],
   "source": [
    "#Instalar liberias en el compute (cluster)\n",
    "#com.databricks:spark-xml_2.12:0.17.0"
   ]
  },
  {
   "cell_type": "code",
   "execution_count": 0,
   "metadata": {
    "application/vnd.databricks.v1+cell": {
     "cellMetadata": {
      "byteLimit": 2048000,
      "rowLimit": 10000
     },
     "inputWidgets": {},
     "nuid": "7792bb22-53a5-4554-9529-788231a69e24",
     "showTitle": false,
     "title": ""
    }
   },
   "outputs": [],
   "source": [
    "#Leemos los datos\n",
    "transacciones_xml = spark.read.format(\"xml\").option(\"rootTag\", \"root\").option(\"rowTag\", \"element\").load(\"dbfs:///FileStore/curso_databricks/transacciones.xml\")"
   ]
  },
  {
   "cell_type": "code",
   "execution_count": 0,
   "metadata": {
    "application/vnd.databricks.v1+cell": {
     "cellMetadata": {
      "byteLimit": 2048000,
      "rowLimit": 10000
     },
     "inputWidgets": {},
     "nuid": "e140e033-b5cb-46e7-a924-5f06105b8096",
     "showTitle": false,
     "title": ""
    },
    "id": "UIIC4EkEa0uc",
    "outputId": "b6f47090-7289-418d-be77-3c2b01581dcf"
   },
   "outputs": [
    {
     "output_type": "stream",
     "name": "stdout",
     "output_type": "stream",
     "text": [
      "+--------------+--------------------+--------------------+\n|       EMPRESA|             PERSONA|         TRANSACCION|\n+--------------+--------------------+--------------------+\n|   {5, Amazon}|{[{59, 9811935}, ...|{2021-01-23, 2628.0}|\n|      {9, IBM}|{[{50, 9912937}, ...|{2021-01-23, 4261.0}|\n|  {7, Samsung}|{[{53, 9769557}, ...|{2021-01-23, 1429.0}|\n|   {5, Amazon}|{[{51, 9733329}, ...|{2021-01-23, 3385.0}|\n|   {4, Toyota}|{[{52, 9091334}, ...|{2021-01-23, 3514.0}|\n|      {9, IBM}|{[{59, 9708669}, ...| {2021-01-23, 823.0}|\n|{2, Microsoft}|{null, 47, 31, Ry...|{2021-01-23, 3724.0}|\n|    {10, Sony}|{[{51, 9443174}],...|{2021-01-23, 3429.0}|\n|   {4, Toyota}|{[{54, 9375039}, ...|{2021-01-23, 4267.0}|\n|      {9, IBM}|{[{59, 9227653}, ...| {2021-01-23, 796.0}|\n|   {4, Toyota}|{[{53, 9758464}, ...| {2021-01-23, 317.0}|\n|      {9, IBM}|{[{51, 9058211}, ...| {2021-01-23, 938.0}|\n|       {8, HP}|{[{57, 9251990}, ...| {2021-01-23, 887.0}|\n|   {5, Amazon}|{[{51, 9993481}],...|{2021-01-23, 2067.0}|\n|  {7, Samsung}|{null, 28, 64, Gr...| {2021-01-23, 714.0}|\n|   {5, Amazon}|{[{51, 9827831}, ...|{2021-01-23, 2967.0}|\n|  {1, Walmart}|{[{53, 9976594}, ...| {2021-01-23, 769.0}|\n|    {3, Apple}|{[{58, 9590391}, ...|{2021-01-23, 3546.0}|\n|{2, Microsoft}|{[{50, 9118416}, ...| {2021-01-23, 642.0}|\n|    {3, Apple}|{[{54, 9427144}],...| {2021-01-23, 275.0}|\n+--------------+--------------------+--------------------+\nonly showing top 20 rows\n\n"
     ]
    }
   ],
   "source": [
    "#Mostramos la data\n",
    "transacciones_xml.show()"
   ]
  }
 ],
 "metadata": {
  "application/vnd.databricks.v1+notebook": {
   "dashboards": [],
   "language": "python",
   "notebookMetadata": {
    "pythonIndentUnit": 4
   },
   "notebookName": "instalacion de librerias en Databricks",
   "widgets": {}
  },
  "colab": {
   "provenance": []
  }
 },
 "nbformat": 4,
 "nbformat_minor": 0
}
